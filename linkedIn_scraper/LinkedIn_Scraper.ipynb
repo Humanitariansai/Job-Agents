{
 "cells": [
  {
   "cell_type": "code",
   "execution_count": 13,
   "id": "ffbe1102",
   "metadata": {},
   "outputs": [],
   "source": [
    "import requests\n",
    "import random\n",
    "from bs4 import BeautifulSoup\n",
    "import pandas as pd\n",
    "import time"
   ]
  },
  {
   "cell_type": "code",
   "execution_count": null,
   "id": "c41e2308",
   "metadata": {},
   "outputs": [],
   "source": [
    "# Your search parameters\n",
    "keywords = \"%22Data%20Engineer%22%20\"\n",
    "location = \"United%20States\"\n",
    "time_filter = \"r1800\"  # Posted within ~30 minutes \n",
    "experience_level = \"2%2C3\"   #( %2C means comma in URL encoding 1=Internship, 2=Entry, 3=Associate)\n",
    "start = 0 # Starting position (first page)\n"
   ]
  },
  {
   "cell_type": "code",
   "execution_count": 15,
   "id": "e1470e84",
   "metadata": {},
   "outputs": [
    {
     "name": "stdout",
     "output_type": "stream",
     "text": [
      "https://www.linkedin.com/jobs-guest/jobs/api/seeMoreJobPostings/search?keywords=%22Data%20Engineer%22%20&location=United%20States&f_TPR=r1800&f_E=2%2C3&start=25\n"
     ]
    },
    {
     "data": {
      "text/plain": [
       "200"
      ]
     },
     "execution_count": 15,
     "metadata": {},
     "output_type": "execute_result"
    }
   ],
   "source": [
    "list_url = f\"https://www.linkedin.com/jobs-guest/jobs/api/seeMoreJobPostings/search?keywords={keywords}&location={location}&f_TPR={time_filter}&f_E={experience_level}&start={start}\"\n",
    "\n",
    "response = requests.get(list_url)\n",
    "list_data = response.text\n",
    "list_soup = BeautifulSoup(list_data, 'html.parser')\n",
    "page_jobs = list_soup.find_all(\"li\")\n",
    "\n",
    "print(list_url)\n",
    "response.status_code"
   ]
  },
  {
   "cell_type": "code",
   "execution_count": 16,
   "id": "62372611",
   "metadata": {},
   "outputs": [],
   "source": [
    "id_list = []\n",
    "for jobs in page_jobs:\n",
    "    base_card_div = jobs.find(\"div\", {\"class\": \"base-card\"})\n",
    "    job_id = base_card_div.get(\"data-entity-urn\").split(\":\")[3]\n",
    "    print(job_id)\n",
    "    id_list.append(job_id)"
   ]
  },
  {
   "cell_type": "code",
   "execution_count": 17,
   "id": "4c73616a",
   "metadata": {},
   "outputs": [],
   "source": [
    "job_list = []\n",
    "\n",
    "for job_id in id_list:  \n",
    "\n",
    "    # Sleep BEFORE making the request\n",
    "    time.sleep(random.uniform(0.5, 5.8))  # Random sleep to avoid being blocked\n",
    "    \n",
    "    job_url = f\"https://www.linkedin.com/jobs-guest/jobs/api/jobPosting/{job_id}\"\n",
    "    job_response = requests.get(job_url)\n",
    "    job_soup = BeautifulSoup(job_response.text, 'html.parser')\n",
    "    job_post = {}\n",
    "    # Extract company name\n",
    "    try:\n",
    "        job_post[\"company_name\"] = job_soup.find(\"a\", {\"class\": \"topcard__org-name-link topcard__flavor--black-link\"}).text.strip()\n",
    "    except AttributeError:\n",
    "        job_post[\"company_name\"] = \"Not available\"\n",
    "    \n",
    "    # Extract job title\n",
    "    try:\n",
    "        job_post[\"job_title\"] = job_soup.find(\"h2\", {\"class\": \"top-card-layout__title\"}).text.strip()\n",
    "    except AttributeError:\n",
    "        job_post[\"job_title\"] = \"Not available\"\n",
    "    \n",
    "    # Extract location\n",
    "    try:\n",
    "        job_post[\"location\"] = job_soup.find(\"span\", {\"class\": \"topcard__flavor topcard__flavor--bullet\"}).text.strip()\n",
    "    except AttributeError:\n",
    "        job_post[\"location\"] = \"Not available\"\n",
    "    \n",
    "    # Extract time posted\n",
    "    try:\n",
    "        job_post[\"time_posted\"] = job_soup.find(\"span\", {\"class\": \"posted-time-ago__text\"}).text.strip()\n",
    "    except AttributeError:\n",
    "        job_post[\"time_posted\"] = \"Not available\"\n",
    "    \n",
    "    # Extract job description\n",
    "    try:\n",
    "        description_div = job_soup.find(\"div\", {\"class\": \"description__text description__text--rich\"})\n",
    "        job_post[\"job_description\"] = description_div.text.strip()\n",
    "    except AttributeError:\n",
    "        job_post[\"job_description\"] = \"Not available\"\n",
    "    \n",
    "    job_list.append(job_post)\n",
    "\n",
    "    job_post"
   ]
  },
  {
   "cell_type": "code",
   "execution_count": 18,
   "id": "d1b85343",
   "metadata": {},
   "outputs": [
    {
     "data": {
      "text/html": [
       "<div>\n",
       "<style scoped>\n",
       "    .dataframe tbody tr th:only-of-type {\n",
       "        vertical-align: middle;\n",
       "    }\n",
       "\n",
       "    .dataframe tbody tr th {\n",
       "        vertical-align: top;\n",
       "    }\n",
       "\n",
       "    .dataframe thead th {\n",
       "        text-align: right;\n",
       "    }\n",
       "</style>\n",
       "<table border=\"1\" class=\"dataframe\">\n",
       "  <thead>\n",
       "    <tr style=\"text-align: right;\">\n",
       "      <th></th>\n",
       "    </tr>\n",
       "  </thead>\n",
       "  <tbody>\n",
       "  </tbody>\n",
       "</table>\n",
       "</div>"
      ],
      "text/plain": [
       "Empty DataFrame\n",
       "Columns: []\n",
       "Index: []"
      ]
     },
     "execution_count": 18,
     "metadata": {},
     "output_type": "execute_result"
    }
   ],
   "source": [
    "df = pd.DataFrame(job_list)\n",
    "\n",
    "df"
   ]
  }
 ],
 "metadata": {
  "kernelspec": {
   "display_name": "base",
   "language": "python",
   "name": "python3"
  },
  "language_info": {
   "codemirror_mode": {
    "name": "ipython",
    "version": 3
   },
   "file_extension": ".py",
   "mimetype": "text/x-python",
   "name": "python",
   "nbconvert_exporter": "python",
   "pygments_lexer": "ipython3",
   "version": "3.12.7"
  }
 },
 "nbformat": 4,
 "nbformat_minor": 5
}
